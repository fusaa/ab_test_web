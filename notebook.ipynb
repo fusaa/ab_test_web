{
 "cells": [
  {
   "cell_type": "markdown",
   "id": "6a6f6a9f",
   "metadata": {},
   "source": [
    "\n",
    "In this notebook we are going over the approach of executing a simple A/B using data available from Kaggle. To make things more enjoyable let´s create a hypothetical circumstance to illustrate the problem better. \n",
    "\n",
    "\"Electronic Masters\" is an online store for computer products. Consumers can buy devices like monitors, computers, laptops, HDMI cables, home theatre systems, batteries, headphones, etc. The UX design team has been working on a new sales page to increase conversion rates for a distinctive type of battery that costs £4.99. \n",
    "\n",
    "The current conversion rate of the product webpage is at 13% on average over the last year. The intent of the product manager is to boost the conversion rate by 2%. The new page, developed by the UX team, would be a success if the conversion rate evolved to 15%. Before replacing the old sales page with the new one, it is wise to try its effectiveness on a smaller group of customers, running a smaller risk of losses if the new page shows a conversion worse than the current page. The dev team has implemented the online test with the new page and provided the dataset for examination."
   ]
  },
  {
   "cell_type": "code",
   "execution_count": 1,
   "id": "3e613277",
   "metadata": {
    "ExecuteTime": {
     "end_time": "2022-11-29T21:58:34.449267Z",
     "start_time": "2022-11-29T21:58:33.208665Z"
    }
   },
   "outputs": [],
   "source": [
    "import pandas as pd\n",
    "import numpy as np\n",
    "import math\n",
    "\n",
    "from statsmodels.stats import api as sms\n",
    "from scipy.stats import chi2_contingency"
   ]
  },
  {
   "cell_type": "code",
   "execution_count": 2,
   "id": "c186a996",
   "metadata": {
    "ExecuteTime": {
     "end_time": "2022-11-29T21:58:34.892125Z",
     "start_time": "2022-11-29T21:58:34.452266Z"
    }
   },
   "outputs": [],
   "source": [
    "df_file = pd.read_csv('./ab_data.csv')"
   ]
  },
  {
   "cell_type": "code",
   "execution_count": 3,
   "id": "136b388d",
   "metadata": {
    "ExecuteTime": {
     "end_time": "2022-11-29T21:58:34.924115Z",
     "start_time": "2022-11-29T21:58:34.895124Z"
    }
   },
   "outputs": [
    {
     "data": {
      "text/html": [
       "<div>\n",
       "<style scoped>\n",
       "    .dataframe tbody tr th:only-of-type {\n",
       "        vertical-align: middle;\n",
       "    }\n",
       "\n",
       "    .dataframe tbody tr th {\n",
       "        vertical-align: top;\n",
       "    }\n",
       "\n",
       "    .dataframe thead th {\n",
       "        text-align: right;\n",
       "    }\n",
       "</style>\n",
       "<table border=\"1\" class=\"dataframe\">\n",
       "  <thead>\n",
       "    <tr style=\"text-align: right;\">\n",
       "      <th></th>\n",
       "      <th>user_id</th>\n",
       "      <th>timestamp</th>\n",
       "      <th>group</th>\n",
       "      <th>landing_page</th>\n",
       "      <th>converted</th>\n",
       "    </tr>\n",
       "  </thead>\n",
       "  <tbody>\n",
       "    <tr>\n",
       "      <th>0</th>\n",
       "      <td>851104</td>\n",
       "      <td>2017-01-21 22:11:48.556739</td>\n",
       "      <td>control</td>\n",
       "      <td>old_page</td>\n",
       "      <td>0</td>\n",
       "    </tr>\n",
       "    <tr>\n",
       "      <th>1</th>\n",
       "      <td>804228</td>\n",
       "      <td>2017-01-12 08:01:45.159739</td>\n",
       "      <td>control</td>\n",
       "      <td>old_page</td>\n",
       "      <td>0</td>\n",
       "    </tr>\n",
       "    <tr>\n",
       "      <th>2</th>\n",
       "      <td>661590</td>\n",
       "      <td>2017-01-11 16:55:06.154213</td>\n",
       "      <td>treatment</td>\n",
       "      <td>new_page</td>\n",
       "      <td>0</td>\n",
       "    </tr>\n",
       "    <tr>\n",
       "      <th>3</th>\n",
       "      <td>853541</td>\n",
       "      <td>2017-01-08 18:28:03.143765</td>\n",
       "      <td>treatment</td>\n",
       "      <td>new_page</td>\n",
       "      <td>0</td>\n",
       "    </tr>\n",
       "    <tr>\n",
       "      <th>4</th>\n",
       "      <td>864975</td>\n",
       "      <td>2017-01-21 01:52:26.210827</td>\n",
       "      <td>control</td>\n",
       "      <td>old_page</td>\n",
       "      <td>1</td>\n",
       "    </tr>\n",
       "    <tr>\n",
       "      <th>5</th>\n",
       "      <td>936923</td>\n",
       "      <td>2017-01-10 15:20:49.083499</td>\n",
       "      <td>control</td>\n",
       "      <td>old_page</td>\n",
       "      <td>0</td>\n",
       "    </tr>\n",
       "    <tr>\n",
       "      <th>6</th>\n",
       "      <td>679687</td>\n",
       "      <td>2017-01-19 03:26:46.940749</td>\n",
       "      <td>treatment</td>\n",
       "      <td>new_page</td>\n",
       "      <td>1</td>\n",
       "    </tr>\n",
       "    <tr>\n",
       "      <th>7</th>\n",
       "      <td>719014</td>\n",
       "      <td>2017-01-17 01:48:29.539573</td>\n",
       "      <td>control</td>\n",
       "      <td>old_page</td>\n",
       "      <td>0</td>\n",
       "    </tr>\n",
       "  </tbody>\n",
       "</table>\n",
       "</div>"
      ],
      "text/plain": [
       "   user_id                   timestamp      group landing_page  converted\n",
       "0   851104  2017-01-21 22:11:48.556739    control     old_page          0\n",
       "1   804228  2017-01-12 08:01:45.159739    control     old_page          0\n",
       "2   661590  2017-01-11 16:55:06.154213  treatment     new_page          0\n",
       "3   853541  2017-01-08 18:28:03.143765  treatment     new_page          0\n",
       "4   864975  2017-01-21 01:52:26.210827    control     old_page          1\n",
       "5   936923  2017-01-10 15:20:49.083499    control     old_page          0\n",
       "6   679687  2017-01-19 03:26:46.940749  treatment     new_page          1\n",
       "7   719014  2017-01-17 01:48:29.539573    control     old_page          0"
      ]
     },
     "execution_count": 3,
     "metadata": {},
     "output_type": "execute_result"
    }
   ],
   "source": [
    "df_file.head(8)"
   ]
  },
  {
   "cell_type": "code",
   "execution_count": 4,
   "id": "1511fce4",
   "metadata": {
    "ExecuteTime": {
     "end_time": "2022-11-29T21:58:35.130049Z",
     "start_time": "2022-11-29T21:58:34.927114Z"
    }
   },
   "outputs": [
    {
     "name": "stdout",
     "output_type": "stream",
     "text": [
      "-- Shape: (294478, 5)\n",
      "\n",
      "-- Uniques:\n",
      "       group['control' 'treatment']\n",
      "       landing_page['old_page' 'new_page']\n",
      "       converted[0 1]\n",
      "\n",
      "-- NAs:\n",
      "user_id         0\n",
      "timestamp       0\n",
      "group           0\n",
      "landing_page    0\n",
      "converted       0\n",
      "dtype: int64\n",
      "\n",
      "-- Duplicated records:\n",
      "3894\n",
      "\n",
      "<class 'pandas.core.frame.DataFrame'>\n",
      "RangeIndex: 294478 entries, 0 to 294477\n",
      "Data columns (total 5 columns):\n",
      " #   Column        Non-Null Count   Dtype \n",
      "---  ------        --------------   ----- \n",
      " 0   user_id       294478 non-null  int64 \n",
      " 1   timestamp     294478 non-null  object\n",
      " 2   group         294478 non-null  object\n",
      " 3   landing_page  294478 non-null  object\n",
      " 4   converted     294478 non-null  int64 \n",
      "dtypes: int64(2), object(3)\n",
      "memory usage: 11.2+ MB\n",
      "None\n"
     ]
    }
   ],
   "source": [
    "print(f'-- Shape: {df_file.shape}\\n')\n",
    "\n",
    "print(f'-- Uniques:\\n \\\n",
    "      group{df_file.group.unique()}\\n \\\n",
    "      landing_page{df_file.landing_page.unique()}\\n \\\n",
    "      converted{df_file.converted.unique()}\\n')\n",
    "\n",
    "print(f'-- NAs:\\n{df_file.isna().sum()}\\n')\n",
    "\n",
    "print(f'-- Duplicated records:\\n{df_file[df_file.user_id.duplicated()].count()[0]}\\n')\n",
    "\n",
    "print(df_file.info())"
   ]
  },
  {
   "cell_type": "markdown",
   "id": "e9bab921",
   "metadata": {
    "ExecuteTime": {
     "end_time": "2022-11-29T09:09:29.253433Z",
     "start_time": "2022-11-29T09:09:29.161463Z"
    }
   },
   "source": [
    "# The experiment"
   ]
  },
  {
   "cell_type": "markdown",
   "id": "a4362851",
   "metadata": {},
   "source": [
    "## Formulating a hypothesis"
   ]
  },
  {
   "cell_type": "markdown",
   "id": "542e5a22",
   "metadata": {},
   "source": [
    "We will choose a two-tailed test. The new page can perform both ways, better or worse.\n",
    "\n",
    "H0: New page conversion is the same.  - The null hypothesis.   \n",
    "H1: New page conversion is different. - The alternative hypothesis.\n",
    "\n",
    "Let´s keep the confidence level at 95%, bringing this way a significance level of 5%. That means we can be 95% confident the samples include the true population mean. On the other hand, the significance level is the probability of wrongly rejecting the null hypothesis. In this case, we run a 5% chance of rejecting the null hypothesis when in fact, we should not. \n",
    "\n",
    "At a later stage, the significance level will be compared with a calculated metric(p-value) using statistical methods. If the p-value is less than the significance level, it means we can reject the null hypothesis and conclude that the effect is statistically significant with a 95% confidence level."
   ]
  },
  {
   "cell_type": "markdown",
   "id": "2a27b40d",
   "metadata": {},
   "source": [
    "## Parameters"
   ]
  },
  {
   "cell_type": "code",
   "execution_count": 5,
   "id": "5aecaaec",
   "metadata": {
    "ExecuteTime": {
     "end_time": "2022-11-29T21:58:35.146045Z",
     "start_time": "2022-11-29T21:58:35.133049Z"
    }
   },
   "outputs": [],
   "source": [
    "# Confidence level\n",
    "confidence_level = 0.95\n",
    "\n",
    "# Significance Level\n",
    "significance_level = 0.05\n",
    "\n",
    "# conversion rates\n",
    "conversion_a = 0.13  # current conversion\n",
    "conversion_b = 0.15  # expected conversion for effect measurement\n",
    "\n",
    "# Effect size for a test comparing two proportions\n",
    "# 2 * (arcsin(sqrt(prop1)) - arcsin(sqrt(prop2)))\n",
    "\n",
    "effect_size = sms.proportion_effectsize( conversion_a, conversion_b)\n",
    "\n",
    "# power\n",
    "\n",
    "power = 0.8"
   ]
  },
  {
   "cell_type": "markdown",
   "id": "d60d9330",
   "metadata": {
    "ExecuteTime": {
     "end_time": "2022-11-29T14:52:02.564590Z",
     "start_time": "2022-11-29T14:52:02.553591Z"
    }
   },
   "source": [
    "## Calculating Sample Size"
   ]
  },
  {
   "cell_type": "code",
   "execution_count": 6,
   "id": "0d1227fc",
   "metadata": {
    "ExecuteTime": {
     "end_time": "2022-11-29T21:58:35.177034Z",
     "start_time": "2022-11-29T21:58:35.148044Z"
    }
   },
   "outputs": [
    {
     "name": "stdout",
     "output_type": "stream",
     "text": [
      "Size for each group: 4720\n"
     ]
    }
   ],
   "source": [
    "# calculating sample size\n",
    "# https://www.statsmodels.org/stable/_modules/statsmodels/stats/power.html#NormalIndPower.solve_power\n",
    "\n",
    "sample_size_n = sms.NormalIndPower().solve_power(effect_size,\n",
    "                                                power = power,\n",
    "                                                alpha = significance_level)\n",
    "sample_size_n = math.ceil(sample_size_n)  # rounding up\n",
    "\n",
    "print(f'Size for each group: {sample_size_n}')"
   ]
  },
  {
   "cell_type": "markdown",
   "id": "51b9c7d5",
   "metadata": {},
   "source": [
    "## Data preparion"
   ]
  },
  {
   "cell_type": "code",
   "execution_count": 7,
   "id": "dc5d7024",
   "metadata": {
    "ExecuteTime": {
     "end_time": "2022-11-29T21:58:35.365974Z",
     "start_time": "2022-11-29T21:58:35.179033Z"
    }
   },
   "outputs": [
    {
     "name": "stdout",
     "output_type": "stream",
     "text": [
      "Number of records in the duplicates:3894\n"
     ]
    }
   ],
   "source": [
    "# Data preparation\n",
    "df_duplicates_list = df_file[['user_id', 'group']].groupby('user_id').count().reset_index().query('group > 1')\n",
    "print(f'Number of records in the duplicates:{len(df_duplicates_list)}')"
   ]
  },
  {
   "cell_type": "markdown",
   "id": "8f56b062",
   "metadata": {},
   "source": [
    "It matches preview check - 3.894."
   ]
  },
  {
   "cell_type": "markdown",
   "id": "ad7eef70",
   "metadata": {},
   "source": [
    "Visual checking 'user_id's records in the source file tagged in the duplicated list:"
   ]
  },
  {
   "cell_type": "code",
   "execution_count": 8,
   "id": "ddd3ed4c",
   "metadata": {
    "ExecuteTime": {
     "end_time": "2022-11-29T21:58:35.412958Z",
     "start_time": "2022-11-29T21:58:35.370973Z"
    }
   },
   "outputs": [
    {
     "data": {
      "text/html": [
       "<div>\n",
       "<style scoped>\n",
       "    .dataframe tbody tr th:only-of-type {\n",
       "        vertical-align: middle;\n",
       "    }\n",
       "\n",
       "    .dataframe tbody tr th {\n",
       "        vertical-align: top;\n",
       "    }\n",
       "\n",
       "    .dataframe thead th {\n",
       "        text-align: right;\n",
       "    }\n",
       "</style>\n",
       "<table border=\"1\" class=\"dataframe\">\n",
       "  <thead>\n",
       "    <tr style=\"text-align: right;\">\n",
       "      <th></th>\n",
       "      <th>user_id</th>\n",
       "      <th>timestamp</th>\n",
       "      <th>group</th>\n",
       "      <th>landing_page</th>\n",
       "      <th>converted</th>\n",
       "    </tr>\n",
       "  </thead>\n",
       "  <tbody>\n",
       "    <tr>\n",
       "      <th>230259</th>\n",
       "      <td>630052</td>\n",
       "      <td>2017-01-17 01:16:05.208766</td>\n",
       "      <td>treatment</td>\n",
       "      <td>new_page</td>\n",
       "      <td>0</td>\n",
       "    </tr>\n",
       "    <tr>\n",
       "      <th>213114</th>\n",
       "      <td>630052</td>\n",
       "      <td>2017-01-07 12:25:54.089486</td>\n",
       "      <td>treatment</td>\n",
       "      <td>old_page</td>\n",
       "      <td>1</td>\n",
       "    </tr>\n",
       "    <tr>\n",
       "      <th>22513</th>\n",
       "      <td>630126</td>\n",
       "      <td>2017-01-14 13:35:54.778695</td>\n",
       "      <td>treatment</td>\n",
       "      <td>old_page</td>\n",
       "      <td>0</td>\n",
       "    </tr>\n",
       "    <tr>\n",
       "      <th>251762</th>\n",
       "      <td>630126</td>\n",
       "      <td>2017-01-19 17:16:00.280440</td>\n",
       "      <td>treatment</td>\n",
       "      <td>new_page</td>\n",
       "      <td>0</td>\n",
       "    </tr>\n",
       "    <tr>\n",
       "      <th>183371</th>\n",
       "      <td>630137</td>\n",
       "      <td>2017-01-20 02:08:49.893878</td>\n",
       "      <td>control</td>\n",
       "      <td>old_page</td>\n",
       "      <td>0</td>\n",
       "    </tr>\n",
       "    <tr>\n",
       "      <th>11792</th>\n",
       "      <td>630137</td>\n",
       "      <td>2017-01-22 14:59:22.051308</td>\n",
       "      <td>control</td>\n",
       "      <td>new_page</td>\n",
       "      <td>0</td>\n",
       "    </tr>\n",
       "    <tr>\n",
       "      <th>207211</th>\n",
       "      <td>630320</td>\n",
       "      <td>2017-01-07 18:02:43.626318</td>\n",
       "      <td>control</td>\n",
       "      <td>old_page</td>\n",
       "      <td>0</td>\n",
       "    </tr>\n",
       "    <tr>\n",
       "      <th>255753</th>\n",
       "      <td>630320</td>\n",
       "      <td>2017-01-12 05:27:37.181803</td>\n",
       "      <td>treatment</td>\n",
       "      <td>old_page</td>\n",
       "      <td>0</td>\n",
       "    </tr>\n",
       "    <tr>\n",
       "      <th>96929</th>\n",
       "      <td>630471</td>\n",
       "      <td>2017-01-07 02:14:17.405726</td>\n",
       "      <td>control</td>\n",
       "      <td>new_page</td>\n",
       "      <td>0</td>\n",
       "    </tr>\n",
       "    <tr>\n",
       "      <th>110634</th>\n",
       "      <td>630471</td>\n",
       "      <td>2017-01-23 01:42:51.501851</td>\n",
       "      <td>control</td>\n",
       "      <td>old_page</td>\n",
       "      <td>0</td>\n",
       "    </tr>\n",
       "  </tbody>\n",
       "</table>\n",
       "</div>"
      ],
      "text/plain": [
       "        user_id                   timestamp      group landing_page  converted\n",
       "230259   630052  2017-01-17 01:16:05.208766  treatment     new_page          0\n",
       "213114   630052  2017-01-07 12:25:54.089486  treatment     old_page          1\n",
       "22513    630126  2017-01-14 13:35:54.778695  treatment     old_page          0\n",
       "251762   630126  2017-01-19 17:16:00.280440  treatment     new_page          0\n",
       "183371   630137  2017-01-20 02:08:49.893878    control     old_page          0\n",
       "11792    630137  2017-01-22 14:59:22.051308    control     new_page          0\n",
       "207211   630320  2017-01-07 18:02:43.626318    control     old_page          0\n",
       "255753   630320  2017-01-12 05:27:37.181803  treatment     old_page          0\n",
       "96929    630471  2017-01-07 02:14:17.405726    control     new_page          0\n",
       "110634   630471  2017-01-23 01:42:51.501851    control     old_page          0"
      ]
     },
     "execution_count": 8,
     "metadata": {},
     "output_type": "execute_result"
    }
   ],
   "source": [
    "df_file[df_file.user_id.isin(df_duplicates_list.user_id)].sort_values('user_id').head(10)"
   ]
  },
  {
   "cell_type": "markdown",
   "id": "b83bfa46",
   "metadata": {},
   "source": [
    "'user_id's more than once appears in both groups(treatment and control) at the same time, opting for removing all of them since the df is large enough for the test."
   ]
  },
  {
   "cell_type": "code",
   "execution_count": 9,
   "id": "6a65ebe4",
   "metadata": {
    "ExecuteTime": {
     "end_time": "2022-11-29T21:58:35.460944Z",
     "start_time": "2022-11-29T21:58:35.415958Z"
    }
   },
   "outputs": [
    {
     "name": "stdout",
     "output_type": "stream",
     "text": [
      "Total Number of records\n",
      "         Before dropping duplicates: 294478 \n",
      "         After dropping duplicates: 286690 \n",
      "         Duplicates dropped(both duplicates): 7788\n"
     ]
    }
   ],
   "source": [
    "df = df_file[~df_file.user_id.isin(df_duplicates_list.user_id)]\n",
    "print(f'Total Number of records\\n \\\n",
    "        Before dropping duplicates: {df_file.shape[0]} \\n \\\n",
    "        After dropping duplicates: {df.shape[0]} \\n \\\n",
    "        Duplicates dropped(both duplicates): {df_file.shape[0] - df.shape[0]}')"
   ]
  },
  {
   "cell_type": "markdown",
   "id": "101ea4c0",
   "metadata": {
    "ExecuteTime": {
     "end_time": "2022-11-29T10:18:23.875385Z",
     "start_time": "2022-11-29T10:18:23.694449Z"
    }
   },
   "source": [
    "## Drawing Samples"
   ]
  },
  {
   "cell_type": "code",
   "execution_count": 10,
   "id": "4fae5f3f",
   "metadata": {
    "ExecuteTime": {
     "end_time": "2022-11-29T21:58:35.587903Z",
     "start_time": "2022-11-29T21:58:35.462943Z"
    }
   },
   "outputs": [
    {
     "name": "stdout",
     "output_type": "stream",
     "text": [
      "Length Control group: 4720\n",
      "Length Treatment group: 4720\n"
     ]
    }
   ],
   "source": [
    "df_control_group = df[df.group == 'control'].sample(n = sample_size_n,\n",
    "                                                    random_state = 32)\n",
    "\n",
    "df_treatment_group = df[df.group == 'treatment'].sample(n = sample_size_n,\n",
    "                                                        random_state = 32)\n",
    "\n",
    "print(f'Length Control group: {df_control_group.shape[0]}')\n",
    "print(f'Length Treatment group: {df_treatment_group.shape[0]}')\n",
    "\n",
    "# Merging sample groups control and treatment\n",
    "df_control_and_treatment = pd.concat([df_control_group,df_treatment_group])\n"
   ]
  },
  {
   "cell_type": "markdown",
   "id": "5347a7da",
   "metadata": {},
   "source": [
    "## Conversion rates"
   ]
  },
  {
   "cell_type": "code",
   "execution_count": 11,
   "id": "54ea7e49",
   "metadata": {
    "ExecuteTime": {
     "end_time": "2022-11-29T21:58:35.604897Z",
     "start_time": "2022-11-29T21:58:35.590902Z"
    }
   },
   "outputs": [
    {
     "name": "stdout",
     "output_type": "stream",
     "text": [
      "Conversion rates for each group:\n",
      "         Control: 0.11864406779661017\n",
      "         Treatment: 0.11970338983050847\n"
     ]
    }
   ],
   "source": [
    "# all successfull purchases divided by all  \n",
    "n_converts_in_control = df_control_group.converted[df_control_group.converted == 1].count()\n",
    "conversion_rate_control = n_converts_in_control / df_control_group.shape[0]\n",
    "\n",
    "\n",
    "n_converts_in_treatment = df_treatment_group.converted[df_treatment_group.converted == 1].count()\n",
    "conversion_rate_treatment = n_converts_in_treatment / df_treatment_group.shape[0]\n",
    "\n",
    "print(f'Conversion rates for each group:\\n \\\n",
    "        Control: {conversion_rate_control}\\n \\\n",
    "        Treatment: {conversion_rate_treatment}')\n",
    "\n"
   ]
  },
  {
   "cell_type": "markdown",
   "id": "aa89d650",
   "metadata": {
    "ExecuteTime": {
     "end_time": "2022-11-29T11:27:22.100121Z",
     "start_time": "2022-11-29T11:27:22.083113Z"
    }
   },
   "source": [
    "## Hypothesis Testing"
   ]
  },
  {
   "cell_type": "code",
   "execution_count": 12,
   "id": "2b1e8666",
   "metadata": {
    "ExecuteTime": {
     "end_time": "2022-11-29T21:58:35.635889Z",
     "start_time": "2022-11-29T21:58:35.607897Z"
    }
   },
   "outputs": [
    {
     "name": "stdout",
     "output_type": "stream",
     "text": [
      "           converted  total\n",
      "group                      \n",
      "control          560   4720\n",
      "treatment        565   4720 \n",
      "\n",
      "Chi Squared Test - P-Value output: 0.91\n",
      "\n",
      "H0: New page conversion is the same. (null hypothesis)\n",
      "H1: New page conversion is different. (alternative hypothesis)\n",
      "\n",
      "P-Value is 0.91, so it is higher than the Significance Level (0.05),\n",
      "therefore null hypothesis has failed to be rejected.\n"
     ]
    }
   ],
   "source": [
    "df_summary = df_control_and_treatment[['group','converted']].groupby('group').agg({'converted':['sum','count']})\n",
    "df_summary.columns = ['converted', 'total']\n",
    "print(f'{df_summary} \\n')\n",
    "\n",
    "chi_value, p_value, dof, expected = chi2_contingency(df_summary)\n",
    "print(f'Chi Squared Test - P-Value output: {p_value:.2f}\\n')\n",
    "\n",
    "print(\"\"\"H0: New page conversion is the same. (null hypothesis)\n",
    "H1: New page conversion is different. (alternative hypothesis)\\n\"\"\")\n",
    "\n",
    "if p_value < significance_level:\n",
    "    print(f'P-Value is {p_value:.2f}, so it is lower than the Significance Level ({significance_level}),\\ntherefore null hypothesis has been rejected.') \n",
    "else:\n",
    "    print(f'P-Value is {p_value:.2f}, so it is higher than the Significance Level ({significance_level}),\\ntherefore null hypothesis has failed to be rejected.') "
   ]
  },
  {
   "cell_type": "markdown",
   "id": "ad79e7e9",
   "metadata": {
    "ExecuteTime": {
     "end_time": "2022-11-29T14:36:27.419937Z",
     "start_time": "2022-11-29T14:36:26.532223Z"
    }
   },
   "source": [
    "## Conclusion"
   ]
  },
  {
   "cell_type": "markdown",
   "id": "9c26a597",
   "metadata": {},
   "source": [
    "Considering the proportion test, categorical variables and an enormous number of records, the Chi-Squared test was suitable for the situation.\n",
    "\n",
    "\n",
    "    Chi Squared Test - P-Value output: 0.91  \n",
    "    H0: New page conversion is the same. (null hypothesis)  \n",
    "    H1: New page conversion is different. (alternative hypothesis)  \n",
    "    P-Value is 0.91, so it is higher than the Significance Level (0.05),\n",
    "    therefore null hypothesis has failed to be rejected.\n",
    "\n",
    "\n",
    "It is not possible to say there is a difference between the new design and the previous one, with a 95% confidence level. So the null hypothesis can not be rejected. In this case, we can conclude that both pages yield the same conversion rate."
   ]
  },
  {
   "cell_type": "markdown",
   "id": "4b002d24",
   "metadata": {
    "ExecuteTime": {
     "end_time": "2022-11-29T17:08:24.060843Z",
     "start_time": "2022-11-29T17:08:24.048848Z"
    }
   },
   "source": [
    "## Business motivation"
   ]
  },
  {
   "cell_type": "markdown",
   "id": "2180f65f",
   "metadata": {},
   "source": [
    "This section is a reflection, using the dataset provided on the role conversion rate plays on eCommerce when dealing with a vast amount of page views and conversion to sales."
   ]
  },
  {
   "cell_type": "code",
   "execution_count": 13,
   "id": "b17f7f16",
   "metadata": {
    "ExecuteTime": {
     "end_time": "2022-11-29T21:58:38.927835Z",
     "start_time": "2022-11-29T21:58:35.638887Z"
    }
   },
   "outputs": [
    {
     "name": "stdout",
     "output_type": "stream",
     "text": [
      "Total number of days the dataset comprehends: 23\n",
      "The average number of visitors to the product page daily: 286690  \n",
      "\n",
      "GMV\n",
      "The current Gross Merchandise Value on period: 185981.0\n",
      "Alternative Gross Merchandise Value on period: 214590.0\n",
      "Expected Lift: 15.38%\n",
      "Difference that would be achieved in monthly sales for the period\n",
      "considering the target conversion: 37316.09\n"
     ]
    }
   ],
   "source": [
    "\n",
    "df_visits_prod_page = df.copy()\n",
    "df_visits_prod_page['date'] = pd.to_datetime(df_visits_prod_page['timestamp']).apply(lambda x: x.strftime('%Y-%m-%d'))\n",
    "df_visits_prod_page = df_visits_prod_page[['user_id','date']].groupby('date').count().reset_index()\n",
    "\n",
    "df_visits_prod_page['current_estim_purchases'] = np.round(df_visits_prod_page['user_id'] * 0.13)\n",
    "df_visits_prod_page['alternative_estim_purchases'] = np.round(df_visits_prod_page['user_id'] * 0.15)\n",
    "\n",
    "# product value:\n",
    "device_value = 4.99\n",
    "\n",
    "df_visits_prod_page['current_estim_GMV'] = np.round(df_visits_prod_page['current_estim_purchases'] * device_value)\n",
    "df_visits_prod_page['alternative_estim_GMV'] = np.round(df_visits_prod_page['alternative_estim_purchases'] * device_value)\n",
    "df_visits_prod_page.columns = ['date', 'n_of_users', 'current_estim_purchases', 'alternative_estim_purchases', 'current_estim_GMV', 'alternative_estim_GMV']\n",
    "\n",
    "\n",
    "print(f'Total number of days the dataset comprehends: {df_visits_prod_page.date.count()}')\n",
    "print(f'The average number of visitors to the product page daily: {df_visits_prod_page.n_of_users.sum()}  ')\n",
    "gmv_current = df_visits_prod_page.current_estim_GMV.sum()\n",
    "gmv_alternative = df_visits_prod_page.alternative_estim_GMV.sum()\n",
    "print('\\nGMV')\n",
    "print('The current Gross Merchandise Value on period: {}'.format(gmv_current))\n",
    "print('Alternative Gross Merchandise Value on period: {}'.format(gmv_alternative))\n",
    "lift = (gmv_alternative - gmv_current) / gmv_current\n",
    "print(f'Expected Lift: {lift * 100:.2f}%')\n",
    "print(f'Difference that would be achieved in monthly sales for the period\\nconsidering the target conversion: {((gmv_alternative - gmv_current)/23*30):.2f}')"
   ]
  },
  {
   "cell_type": "markdown",
   "id": "7631c476",
   "metadata": {
    "ExecuteTime": {
     "end_time": "2022-11-29T16:08:16.069895Z",
     "start_time": "2022-11-29T16:08:16.053888Z"
    }
   },
   "source": [
    "Just an insight into the motivation for a slight increase in the conversion rate and the extra revenue it would bring."
   ]
  },
  {
   "cell_type": "code",
   "execution_count": null,
   "id": "3ef5fde6",
   "metadata": {},
   "outputs": [],
   "source": []
  }
 ],
 "metadata": {
  "hide_input": false,
  "kernelspec": {
   "display_name": "Python 3",
   "language": "python",
   "name": "python3"
  },
  "language_info": {
   "codemirror_mode": {
    "name": "ipython",
    "version": 3
   },
   "file_extension": ".py",
   "mimetype": "text/x-python",
   "name": "python",
   "nbconvert_exporter": "python",
   "pygments_lexer": "ipython3",
   "version": "3.8.8"
  },
  "toc": {
   "base_numbering": 1,
   "nav_menu": {},
   "number_sections": true,
   "sideBar": true,
   "skip_h1_title": false,
   "title_cell": "Table of Contents",
   "title_sidebar": "Contents",
   "toc_cell": false,
   "toc_position": {},
   "toc_section_display": true,
   "toc_window_display": false
  }
 },
 "nbformat": 4,
 "nbformat_minor": 5
}
